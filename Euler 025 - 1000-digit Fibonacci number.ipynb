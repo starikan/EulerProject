{
 "metadata": {
  "name": ""
 },
 "nbformat": 3,
 "nbformat_minor": 0,
 "worksheets": [
  {
   "cells": [
    {
     "cell_type": "heading",
     "level": 1,
     "metadata": {},
     "source": [
      "1000-digit Fibonacci number"
     ]
    },
    {
     "cell_type": "markdown",
     "metadata": {},
     "source": [
      "<p>The Fibonacci sequence is defined by the recurrence relation:</p>\n",
      "<blockquote>F<sub><i>n</i></sub> = F<sub>n-1</sub> + F<sub>n-2</sub>, where F<sub>1</sub> = 1 and F<sub>2</sub> = 1.</blockquote>\n",
      "<p>Hence the first 12 terms will be:</p>\n",
      "<blockquote>F<sub>1</sub> = 1<br>\n",
      "F<sub>2</sub> = 1<br>\n",
      "F<sub>3</sub> = 2<br>\n",
      "F<sub>4</sub> = 3<br>\n",
      "F<sub>5</sub> = 5<br>\n",
      "F<sub>6</sub> = 8<br>\n",
      "F<sub>7</sub> = 13<br>\n",
      "F<sub>8</sub> = 21<br>\n",
      "F<sub>9</sub> = 34<br>\n",
      "F<sub>10</sub> = 55<br>\n",
      "F<sub>11</sub> = 89<br>\n",
      "F<sub>12</sub> = 144</blockquote>\n",
      "<p>The 12th term, F<sub>12</sub>, is the first term to contain three digits.</p>\n",
      "<p>What is the first term in the Fibonacci sequence to contain 1000 digits?</p>"
     ]
    },
    {
     "cell_type": "code",
     "collapsed": false,
     "input": [
      "a, b, i = 0, 1, 0\n",
      "while len(str(a))<1000:\n",
      "    a, b, i = b, a + b, i + 1"
     ],
     "language": "python",
     "metadata": {},
     "outputs": [],
     "prompt_number": 1
    },
    {
     "cell_type": "heading",
     "level": 3,
     "metadata": {},
     "source": [
      "Answer is:"
     ]
    },
    {
     "cell_type": "code",
     "collapsed": false,
     "input": [
      "i"
     ],
     "language": "python",
     "metadata": {},
     "outputs": [
      {
       "metadata": {},
       "output_type": "pyout",
       "prompt_number": 2,
       "text": [
        "4782"
       ]
      }
     ],
    }
   ],
   "metadata": {}
  }
 ]
}