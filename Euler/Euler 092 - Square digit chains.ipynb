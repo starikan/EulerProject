{
  "cells": [
    {
      "cell_type": "markdown",
      "source": [
        "**Square digit chains**\n",
        "\n",
        "*Problem 92*\n",
        "\n",
        "A number chain is created by continuously adding the square of the digits in a number to form a new number until it has been seen before.\n",
        "\n",
        "For example,\n",
        "\n",
        "44 → 32 → 13 → 10 → 1 → 1\n",
        "\n",
        "85 → 89 → 145 → 42 → 20 → 4 → 16 → 37 → 58 → 89\n",
        "\n",
        "Therefore any chain that arrives at 1 or 89 will become stuck in an endless loop. What is most amazing is that EVERY starting number will eventually arrive at 1 or 89.\n",
        "\nHow many starting numbers below ten million will arrive at 89?"
      ],
      "metadata": {}
    },
    {
      "cell_type": "code",
      "source": [
        "from collections import Counter\n",
        "\nimport numpy as np"
      ],
      "outputs": [],
      "execution_count": 13,
      "metadata": {
        "collapsed": false,
        "outputHidden": false,
        "inputHidden": false
      }
    },
    {
      "cell_type": "code",
      "source": [
        "def checkSeq(number=0):\n",
        "    while number!=89 and number!=1:\n",
        "        number = sum([np.power(int(i), 2) for i in str(number)])\n",
        "    return number   "
      ],
      "outputs": [],
      "execution_count": 16,
      "metadata": {
        "collapsed": false,
        "outputHidden": false,
        "inputHidden": false
      }
    },
    {
      "cell_type": "code",
      "source": [
        "Counter([checkSeq(i) for i in range(1, 10000000)])"
      ],
      "outputs": [
        {
          "output_type": "execute_result",
          "execution_count": 17,
          "data": {
            "text/plain": [
              "Counter({1: 1418853, 89: 8581146})"
            ]
          },
          "metadata": {}
        }
      ],
      "execution_count": 17,
      "metadata": {
        "collapsed": false,
        "outputHidden": false,
        "inputHidden": false
      }
    },
    {
      "cell_type": "code",
      "source": [],
      "outputs": [],
      "execution_count": null,
      "metadata": {
        "collapsed": false,
        "outputHidden": false,
        "inputHidden": false
      }
    }
  ],
  "metadata": {
    "kernel_info": {
      "name": "python3"
    },
    "kernelspec": {
      "name": "python3",
      "language": "python",
      "display_name": "Python 3"
    },
    "language_info": {
      "name": "python",
      "version": "3.6.1",
      "mimetype": "text/x-python",
      "codemirror_mode": {
        "name": "ipython",
        "version": 3
      },
      "pygments_lexer": "ipython3",
      "nbconvert_exporter": "python",
      "file_extension": ".py"
    },
    "nteract": {
      "version": "0.8.4"
    }
  },
  "nbformat": 4,
  "nbformat_minor": 4
}