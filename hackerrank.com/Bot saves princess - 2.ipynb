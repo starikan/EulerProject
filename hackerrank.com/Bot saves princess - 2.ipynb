{
 "cells": [
  {
   "cell_type": "code",
   "execution_count": 178,
   "metadata": {},
   "outputs": [],
   "source": [
    "n, r, c = 5, 4, 2\n",
    "grid = [\n",
    "'-----',\n",
    "'-----',\n",
    "'p----',\n",
    "'-----',\n",
    "'--m--',\n",
    "]"
   ]
  },
  {
   "cell_type": "code",
   "execution_count": null,
   "metadata": {},
   "outputs": [],
   "source": [
    "def find(grid, symbol):\n",
    "    for r, row in enumerate(grid):\n",
    "        for c, val in enumerate(row):\n",
    "            if val == symbol:\n",
    "                return (r, c)\n",
    "    return False\n",
    "\n",
    "def nextMove(n, r, c, grid):\n",
    "    m = find(grid, 'm')\n",
    "    p = find(grid, 'p')\n",
    "    \n",
    "    dy = p[0] - m[0]\n",
    "    dx = p[1] - m[1]\n",
    "    \n",
    "    r, c = p[0], p[1]\n",
    "    \n",
    "    if dx:\n",
    "        if dx > 0:\n",
    "            grid[m[0]] = grid[m[0]].replace('m-', '-m')\n",
    "            return 'RIGHT'\n",
    "        if dx < 0:\n",
    "            grid[m[0]] = grid[m[0]].replace('-m', 'm-')\n",
    "            return 'LEFT'\n",
    "\n",
    "    if dy:\n",
    "        if dy > 0:\n",
    "            grid_row = [i for i in grid[m[0] + 1]]\n",
    "            grid_row[m[1]] = 'm'\n",
    "            grid[m[0] + 1] = ''.join(grid_row)\n",
    "            grid[m[0]] = '-' * n\n",
    "            return 'DOWN'\n",
    "        if dy < 0:\n",
    "            grid_row = [i for i in grid[m[0] - 1]]\n",
    "            grid_row[m[1]] = 'm'\n",
    "            grid[m[0] - 1] = ''.join(grid_row)\n",
    "            grid[m[0]] = '-' * n\n",
    "            return 'UP'\n",
    "\n",
    "print(nextMove(n,r,c,grid))"
   ]
  },
  {
   "cell_type": "code",
   "execution_count": null,
   "metadata": {},
   "outputs": [],
   "source": []
  }
 ],
 "metadata": {
  "kernelspec": {
   "display_name": "Python [conda env:ml]",
   "language": "python",
   "name": "conda-env-ml-py"
  },
  "language_info": {
   "codemirror_mode": {
    "name": "ipython",
    "version": 3
   },
   "file_extension": ".py",
   "mimetype": "text/x-python",
   "name": "python",
   "nbconvert_exporter": "python",
   "pygments_lexer": "ipython3",
   "version": "3.6.6"
  }
 },
 "nbformat": 4,
 "nbformat_minor": 2
}
