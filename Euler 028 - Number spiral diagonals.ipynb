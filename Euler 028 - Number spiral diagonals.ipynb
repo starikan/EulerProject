{
 "metadata": {
  "name": "",
  "signature": "sha256:9400cd1ec2a223ba2435884a4e51561a765d7d2bd79e099e47eda1383f22162b"
 },
 "nbformat": 3,
 "nbformat_minor": 0,
 "worksheets": [
  {
   "cells": [
    {
     "cell_type": "heading",
     "level": 1,
     "metadata": {},
     "source": [
      "Euler 028 - Number spiral diagonals"
     ]
    },
    {
     "cell_type": "raw",
     "metadata": {},
     "source": [
      "Starting with the number 1 and moving to the right in a clockwise direction a 5 by 5 spiral is formed as follows:\n",
      "\n",
      "21 22 23 24 25\n",
      "20  7  8  9 10\n",
      "19  6  1  2 11\n",
      "18  5  4  3 12\n",
      "17 16 15 14 13\n",
      "\n",
      "It can be verified that the sum of the numbers on the diagonals is 101.\n",
      "\n",
      "What is the sum of the numbers on the diagonals in a 1001 by 1001 spiral formed in the same way?"
     ]
    },
    {
     "cell_type": "code",
     "collapsed": false,
     "input": [
      "intervals = [i for i in range(2, 1001, 2)]"
     ],
     "language": "python",
     "metadata": {},
     "outputs": [],
     "prompt_number": 34
    },
    {
     "cell_type": "code",
     "collapsed": false,
     "input": [
      "digits = [1]\n",
      "for i in intervals:\n",
      "    for j in range(4):\n",
      "        digits += [digits[-1] + i];\n",
      "        \n",
      "print (sum(digits))"
     ],
     "language": "python",
     "metadata": {},
     "outputs": [
      {
       "output_type": "stream",
       "stream": "stdout",
       "text": [
        "669171001\n"
       ]
      }
     ],
     "prompt_number": 35
    }
   ],
   "metadata": {}
  }
 ]
}